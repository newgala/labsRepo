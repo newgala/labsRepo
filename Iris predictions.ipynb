{
 "cells": [
  {
   "cell_type": "markdown",
   "id": "c17c6507",
   "metadata": {},
   "source": [
    "# Iris predictions"
   ]
  },
  {
   "cell_type": "code",
   "execution_count": 34,
   "id": "6d03dd8b",
   "metadata": {},
   "outputs": [],
   "source": [
    "import pymysql\n",
    "from sqlalchemy import create_engine\n",
    "import seaborn as sns\n",
    "import pandas as pd\n",
    "import numpy as np\n",
    "import matplotlib.pyplot as plt\n",
    "%matplotlib inline\n",
    "import getpass\n",
    "from sklearn.linear_model import LogisticRegression\n",
    "from sklearn.model_selection import train_test_split\n",
    "from sklearn.metrics import accuracy_score\n",
    "from sklearn.preprocessing import RobustScaler\n",
    "import warnings\n",
    "warnings.filterwarnings(\"ignore\")"
   ]
  },
  {
   "cell_type": "code",
   "execution_count": 35,
   "id": "3a015d3e",
   "metadata": {},
   "outputs": [],
   "source": [
    "df=pd.read_csv('iris_dirty.csv')"
   ]
  },
  {
   "cell_type": "code",
   "execution_count": 36,
   "id": "bf9aff73",
   "metadata": {},
   "outputs": [
    {
     "data": {
      "text/html": [
       "<div>\n",
       "<style scoped>\n",
       "    .dataframe tbody tr th:only-of-type {\n",
       "        vertical-align: middle;\n",
       "    }\n",
       "\n",
       "    .dataframe tbody tr th {\n",
       "        vertical-align: top;\n",
       "    }\n",
       "\n",
       "    .dataframe thead th {\n",
       "        text-align: right;\n",
       "    }\n",
       "</style>\n",
       "<table border=\"1\" class=\"dataframe\">\n",
       "  <thead>\n",
       "    <tr style=\"text-align: right;\">\n",
       "      <th></th>\n",
       "      <th>5.1</th>\n",
       "      <th>3.5</th>\n",
       "      <th>1.4</th>\n",
       "      <th>2 mm</th>\n",
       "      <th>Iris-setosa</th>\n",
       "    </tr>\n",
       "  </thead>\n",
       "  <tbody>\n",
       "    <tr>\n",
       "      <th>0</th>\n",
       "      <td>4.9</td>\n",
       "      <td>3.0</td>\n",
       "      <td>1.4</td>\n",
       "      <td>2 mm</td>\n",
       "      <td>Iris-setosa</td>\n",
       "    </tr>\n",
       "    <tr>\n",
       "      <th>1</th>\n",
       "      <td>4.7</td>\n",
       "      <td>3.2</td>\n",
       "      <td>1.3</td>\n",
       "      <td>2 mm</td>\n",
       "      <td>Iris-setosa</td>\n",
       "    </tr>\n",
       "    <tr>\n",
       "      <th>2</th>\n",
       "      <td>4.6</td>\n",
       "      <td>3.1</td>\n",
       "      <td>1.5</td>\n",
       "      <td>2 mm</td>\n",
       "      <td>Iris-setosa</td>\n",
       "    </tr>\n",
       "    <tr>\n",
       "      <th>3</th>\n",
       "      <td>5.0</td>\n",
       "      <td>3.6</td>\n",
       "      <td>1.4</td>\n",
       "      <td>2 mm</td>\n",
       "      <td>Iris-setosa</td>\n",
       "    </tr>\n",
       "    <tr>\n",
       "      <th>4</th>\n",
       "      <td>5.4</td>\n",
       "      <td>3.9</td>\n",
       "      <td>1.7</td>\n",
       "      <td>4 mm</td>\n",
       "      <td>Iris-setosa</td>\n",
       "    </tr>\n",
       "    <tr>\n",
       "      <th>...</th>\n",
       "      <td>...</td>\n",
       "      <td>...</td>\n",
       "      <td>...</td>\n",
       "      <td>...</td>\n",
       "      <td>...</td>\n",
       "    </tr>\n",
       "    <tr>\n",
       "      <th>145</th>\n",
       "      <td>6.7</td>\n",
       "      <td>3.0</td>\n",
       "      <td>5.2</td>\n",
       "      <td>23 mm</td>\n",
       "      <td>Iris-virginica</td>\n",
       "    </tr>\n",
       "    <tr>\n",
       "      <th>146</th>\n",
       "      <td>6.3</td>\n",
       "      <td>2.5</td>\n",
       "      <td>5.0</td>\n",
       "      <td>19 mm</td>\n",
       "      <td>Iris-virginica</td>\n",
       "    </tr>\n",
       "    <tr>\n",
       "      <th>147</th>\n",
       "      <td>6.5</td>\n",
       "      <td>3.0</td>\n",
       "      <td>5.2</td>\n",
       "      <td>20 mm</td>\n",
       "      <td>Iris-virginica</td>\n",
       "    </tr>\n",
       "    <tr>\n",
       "      <th>148</th>\n",
       "      <td>6.2</td>\n",
       "      <td>3.4</td>\n",
       "      <td>5.4</td>\n",
       "      <td>23 mm</td>\n",
       "      <td>Iris-virginica</td>\n",
       "    </tr>\n",
       "    <tr>\n",
       "      <th>149</th>\n",
       "      <td>5.9</td>\n",
       "      <td>3.0</td>\n",
       "      <td>5.1</td>\n",
       "      <td>18 mm</td>\n",
       "      <td>Iris-virginica</td>\n",
       "    </tr>\n",
       "  </tbody>\n",
       "</table>\n",
       "<p>150 rows × 5 columns</p>\n",
       "</div>"
      ],
      "text/plain": [
       "     5.1  3.5  1.4   2 mm     Iris-setosa\n",
       "0    4.9  3.0  1.4   2 mm     Iris-setosa\n",
       "1    4.7  3.2  1.3   2 mm     Iris-setosa\n",
       "2    4.6  3.1  1.5   2 mm     Iris-setosa\n",
       "3    5.0  3.6  1.4   2 mm     Iris-setosa\n",
       "4    5.4  3.9  1.7   4 mm     Iris-setosa\n",
       "..   ...  ...  ...    ...             ...\n",
       "145  6.7  3.0  5.2  23 mm  Iris-virginica\n",
       "146  6.3  2.5  5.0  19 mm  Iris-virginica\n",
       "147  6.5  3.0  5.2  20 mm  Iris-virginica\n",
       "148  6.2  3.4  5.4  23 mm  Iris-virginica\n",
       "149  5.9  3.0  5.1  18 mm  Iris-virginica\n",
       "\n",
       "[150 rows x 5 columns]"
      ]
     },
     "execution_count": 36,
     "metadata": {},
     "output_type": "execute_result"
    }
   ],
   "source": [
    "df"
   ]
  },
  {
   "cell_type": "markdown",
   "id": "067f3989",
   "metadata": {},
   "source": [
    "## Import the dataset iris_dirty.csv from this repo into a Pandas dataframe. Check the Pandas documentation of read_csv() and use the column names sepal_length, sepal_width, petal_length, petal_width and class when you read in the data."
   ]
  },
  {
   "cell_type": "code",
   "execution_count": 37,
   "id": "0aa5224b",
   "metadata": {},
   "outputs": [],
   "source": [
    "df = pd.read_csv('iris_dirty.csv',\n",
    "                 names=['sepal_length',\n",
    "                        'sepal_width',\n",
    "                        'petal_length',\n",
    "                        'petal_width',\n",
    "                        'class',\n",
    "                       ],\n",
    "                header=None,\n",
    "                )"
   ]
  },
  {
   "cell_type": "code",
   "execution_count": 38,
   "id": "7c982c44",
   "metadata": {},
   "outputs": [
    {
     "data": {
      "text/html": [
       "<div>\n",
       "<style scoped>\n",
       "    .dataframe tbody tr th:only-of-type {\n",
       "        vertical-align: middle;\n",
       "    }\n",
       "\n",
       "    .dataframe tbody tr th {\n",
       "        vertical-align: top;\n",
       "    }\n",
       "\n",
       "    .dataframe thead th {\n",
       "        text-align: right;\n",
       "    }\n",
       "</style>\n",
       "<table border=\"1\" class=\"dataframe\">\n",
       "  <thead>\n",
       "    <tr style=\"text-align: right;\">\n",
       "      <th></th>\n",
       "      <th>sepal_length</th>\n",
       "      <th>sepal_width</th>\n",
       "      <th>petal_length</th>\n",
       "      <th>petal_width</th>\n",
       "      <th>class</th>\n",
       "    </tr>\n",
       "  </thead>\n",
       "  <tbody>\n",
       "    <tr>\n",
       "      <th>0</th>\n",
       "      <td>5.1</td>\n",
       "      <td>3.5</td>\n",
       "      <td>1.4</td>\n",
       "      <td>2 mm</td>\n",
       "      <td>Iris-setosa</td>\n",
       "    </tr>\n",
       "    <tr>\n",
       "      <th>1</th>\n",
       "      <td>4.9</td>\n",
       "      <td>3.0</td>\n",
       "      <td>1.4</td>\n",
       "      <td>2 mm</td>\n",
       "      <td>Iris-setosa</td>\n",
       "    </tr>\n",
       "    <tr>\n",
       "      <th>2</th>\n",
       "      <td>4.7</td>\n",
       "      <td>3.2</td>\n",
       "      <td>1.3</td>\n",
       "      <td>2 mm</td>\n",
       "      <td>Iris-setosa</td>\n",
       "    </tr>\n",
       "    <tr>\n",
       "      <th>3</th>\n",
       "      <td>4.6</td>\n",
       "      <td>3.1</td>\n",
       "      <td>1.5</td>\n",
       "      <td>2 mm</td>\n",
       "      <td>Iris-setosa</td>\n",
       "    </tr>\n",
       "    <tr>\n",
       "      <th>4</th>\n",
       "      <td>5.0</td>\n",
       "      <td>3.6</td>\n",
       "      <td>1.4</td>\n",
       "      <td>2 mm</td>\n",
       "      <td>Iris-setosa</td>\n",
       "    </tr>\n",
       "    <tr>\n",
       "      <th>...</th>\n",
       "      <td>...</td>\n",
       "      <td>...</td>\n",
       "      <td>...</td>\n",
       "      <td>...</td>\n",
       "      <td>...</td>\n",
       "    </tr>\n",
       "    <tr>\n",
       "      <th>146</th>\n",
       "      <td>6.7</td>\n",
       "      <td>3.0</td>\n",
       "      <td>5.2</td>\n",
       "      <td>23 mm</td>\n",
       "      <td>Iris-virginica</td>\n",
       "    </tr>\n",
       "    <tr>\n",
       "      <th>147</th>\n",
       "      <td>6.3</td>\n",
       "      <td>2.5</td>\n",
       "      <td>5.0</td>\n",
       "      <td>19 mm</td>\n",
       "      <td>Iris-virginica</td>\n",
       "    </tr>\n",
       "    <tr>\n",
       "      <th>148</th>\n",
       "      <td>6.5</td>\n",
       "      <td>3.0</td>\n",
       "      <td>5.2</td>\n",
       "      <td>20 mm</td>\n",
       "      <td>Iris-virginica</td>\n",
       "    </tr>\n",
       "    <tr>\n",
       "      <th>149</th>\n",
       "      <td>6.2</td>\n",
       "      <td>3.4</td>\n",
       "      <td>5.4</td>\n",
       "      <td>23 mm</td>\n",
       "      <td>Iris-virginica</td>\n",
       "    </tr>\n",
       "    <tr>\n",
       "      <th>150</th>\n",
       "      <td>5.9</td>\n",
       "      <td>3.0</td>\n",
       "      <td>5.1</td>\n",
       "      <td>18 mm</td>\n",
       "      <td>Iris-virginica</td>\n",
       "    </tr>\n",
       "  </tbody>\n",
       "</table>\n",
       "<p>151 rows × 5 columns</p>\n",
       "</div>"
      ],
      "text/plain": [
       "     sepal_length  sepal_width  petal_length petal_width           class\n",
       "0             5.1          3.5           1.4        2 mm     Iris-setosa\n",
       "1             4.9          3.0           1.4        2 mm     Iris-setosa\n",
       "2             4.7          3.2           1.3        2 mm     Iris-setosa\n",
       "3             4.6          3.1           1.5        2 mm     Iris-setosa\n",
       "4             5.0          3.6           1.4        2 mm     Iris-setosa\n",
       "..            ...          ...           ...         ...             ...\n",
       "146           6.7          3.0           5.2       23 mm  Iris-virginica\n",
       "147           6.3          2.5           5.0       19 mm  Iris-virginica\n",
       "148           6.5          3.0           5.2       20 mm  Iris-virginica\n",
       "149           6.2          3.4           5.4       23 mm  Iris-virginica\n",
       "150           5.9          3.0           5.1       18 mm  Iris-virginica\n",
       "\n",
       "[151 rows x 5 columns]"
      ]
     },
     "execution_count": 38,
     "metadata": {},
     "output_type": "execute_result"
    }
   ],
   "source": [
    "df"
   ]
  },
  {
   "cell_type": "markdown",
   "id": "877c8c3b",
   "metadata": {},
   "source": [
    "## Explore the data with the known Pandas functions head(), info(), describe(), count(), value_counts() (for all columns). Watch for missing values, duplicates, spelling errors, non-uniform units, columns with datatypes they shouldn't have etc."
   ]
  },
  {
   "cell_type": "code",
   "execution_count": 39,
   "id": "fd58aae3",
   "metadata": {},
   "outputs": [
    {
     "data": {
      "text/html": [
       "<div>\n",
       "<style scoped>\n",
       "    .dataframe tbody tr th:only-of-type {\n",
       "        vertical-align: middle;\n",
       "    }\n",
       "\n",
       "    .dataframe tbody tr th {\n",
       "        vertical-align: top;\n",
       "    }\n",
       "\n",
       "    .dataframe thead th {\n",
       "        text-align: right;\n",
       "    }\n",
       "</style>\n",
       "<table border=\"1\" class=\"dataframe\">\n",
       "  <thead>\n",
       "    <tr style=\"text-align: right;\">\n",
       "      <th></th>\n",
       "      <th>sepal_length</th>\n",
       "      <th>sepal_width</th>\n",
       "      <th>petal_length</th>\n",
       "      <th>petal_width</th>\n",
       "      <th>class</th>\n",
       "    </tr>\n",
       "  </thead>\n",
       "  <tbody>\n",
       "    <tr>\n",
       "      <th>0</th>\n",
       "      <td>5.1</td>\n",
       "      <td>3.5</td>\n",
       "      <td>1.4</td>\n",
       "      <td>2 mm</td>\n",
       "      <td>Iris-setosa</td>\n",
       "    </tr>\n",
       "    <tr>\n",
       "      <th>1</th>\n",
       "      <td>4.9</td>\n",
       "      <td>3.0</td>\n",
       "      <td>1.4</td>\n",
       "      <td>2 mm</td>\n",
       "      <td>Iris-setosa</td>\n",
       "    </tr>\n",
       "    <tr>\n",
       "      <th>2</th>\n",
       "      <td>4.7</td>\n",
       "      <td>3.2</td>\n",
       "      <td>1.3</td>\n",
       "      <td>2 mm</td>\n",
       "      <td>Iris-setosa</td>\n",
       "    </tr>\n",
       "    <tr>\n",
       "      <th>3</th>\n",
       "      <td>4.6</td>\n",
       "      <td>3.1</td>\n",
       "      <td>1.5</td>\n",
       "      <td>2 mm</td>\n",
       "      <td>Iris-setosa</td>\n",
       "    </tr>\n",
       "    <tr>\n",
       "      <th>4</th>\n",
       "      <td>5.0</td>\n",
       "      <td>3.6</td>\n",
       "      <td>1.4</td>\n",
       "      <td>2 mm</td>\n",
       "      <td>Iris-setosa</td>\n",
       "    </tr>\n",
       "    <tr>\n",
       "      <th>5</th>\n",
       "      <td>5.4</td>\n",
       "      <td>3.9</td>\n",
       "      <td>1.7</td>\n",
       "      <td>4 mm</td>\n",
       "      <td>Iris-setosa</td>\n",
       "    </tr>\n",
       "    <tr>\n",
       "      <th>6</th>\n",
       "      <td>4.6</td>\n",
       "      <td>3.4</td>\n",
       "      <td>1.4</td>\n",
       "      <td>3 mm</td>\n",
       "      <td>Iris-setosa</td>\n",
       "    </tr>\n",
       "    <tr>\n",
       "      <th>7</th>\n",
       "      <td>5.0</td>\n",
       "      <td>3.4</td>\n",
       "      <td>1.5</td>\n",
       "      <td>2 mm</td>\n",
       "      <td>Iris-setosa</td>\n",
       "    </tr>\n",
       "    <tr>\n",
       "      <th>8</th>\n",
       "      <td>4.4</td>\n",
       "      <td>2.9</td>\n",
       "      <td>1.4</td>\n",
       "      <td>2 mm</td>\n",
       "      <td>Iris-setosa</td>\n",
       "    </tr>\n",
       "    <tr>\n",
       "      <th>9</th>\n",
       "      <td>4.9</td>\n",
       "      <td>3.1</td>\n",
       "      <td>1.5</td>\n",
       "      <td>1 mm</td>\n",
       "      <td>Iris-setosa</td>\n",
       "    </tr>\n",
       "  </tbody>\n",
       "</table>\n",
       "</div>"
      ],
      "text/plain": [
       "   sepal_length  sepal_width  petal_length petal_width        class\n",
       "0           5.1          3.5           1.4        2 mm  Iris-setosa\n",
       "1           4.9          3.0           1.4        2 mm  Iris-setosa\n",
       "2           4.7          3.2           1.3        2 mm  Iris-setosa\n",
       "3           4.6          3.1           1.5        2 mm  Iris-setosa\n",
       "4           5.0          3.6           1.4        2 mm  Iris-setosa\n",
       "5           5.4          3.9           1.7        4 mm  Iris-setosa\n",
       "6           4.6          3.4           1.4        3 mm  Iris-setosa\n",
       "7           5.0          3.4           1.5        2 mm  Iris-setosa\n",
       "8           4.4          2.9           1.4        2 mm  Iris-setosa\n",
       "9           4.9          3.1           1.5        1 mm  Iris-setosa"
      ]
     },
     "execution_count": 39,
     "metadata": {},
     "output_type": "execute_result"
    }
   ],
   "source": [
    "df.head(10)"
   ]
  },
  {
   "cell_type": "code",
   "execution_count": 40,
   "id": "81179bdc",
   "metadata": {},
   "outputs": [
    {
     "name": "stdout",
     "output_type": "stream",
     "text": [
      "<class 'pandas.core.frame.DataFrame'>\n",
      "RangeIndex: 151 entries, 0 to 150\n",
      "Data columns (total 5 columns):\n",
      " #   Column        Non-Null Count  Dtype  \n",
      "---  ------        --------------  -----  \n",
      " 0   sepal_length  151 non-null    float64\n",
      " 1   sepal_width   150 non-null    float64\n",
      " 2   petal_length  151 non-null    float64\n",
      " 3   petal_width   151 non-null    object \n",
      " 4   class         151 non-null    object \n",
      "dtypes: float64(3), object(2)\n",
      "memory usage: 6.0+ KB\n"
     ]
    }
   ],
   "source": [
    "df.info()"
   ]
  },
  {
   "cell_type": "code",
   "execution_count": 41,
   "id": "ff0bf99b",
   "metadata": {},
   "outputs": [
    {
     "data": {
      "text/plain": [
       "array([3.5, 3. , 3.2, 3.1, 3.6, 3.9, 3.4, 2.9, 3.7, 4. , 4.4, 3.8, 3.3,\n",
       "       4.1, 4.2, 2.3, 2.8, 2.4, 2.7, 2. , 2.2, 2.5, 2.6, nan])"
      ]
     },
     "execution_count": 41,
     "metadata": {},
     "output_type": "execute_result"
    }
   ],
   "source": [
    "df['sepal_width'].unique()"
   ]
  },
  {
   "cell_type": "code",
   "execution_count": 42,
   "id": "c6329bd6",
   "metadata": {},
   "outputs": [
    {
     "data": {
      "text/html": [
       "<div>\n",
       "<style scoped>\n",
       "    .dataframe tbody tr th:only-of-type {\n",
       "        vertical-align: middle;\n",
       "    }\n",
       "\n",
       "    .dataframe tbody tr th {\n",
       "        vertical-align: top;\n",
       "    }\n",
       "\n",
       "    .dataframe thead th {\n",
       "        text-align: right;\n",
       "    }\n",
       "</style>\n",
       "<table border=\"1\" class=\"dataframe\">\n",
       "  <thead>\n",
       "    <tr style=\"text-align: right;\">\n",
       "      <th></th>\n",
       "      <th>sepal_length</th>\n",
       "      <th>sepal_width</th>\n",
       "      <th>petal_length</th>\n",
       "    </tr>\n",
       "  </thead>\n",
       "  <tbody>\n",
       "    <tr>\n",
       "      <th>count</th>\n",
       "      <td>151.000000</td>\n",
       "      <td>150.000000</td>\n",
       "      <td>151.000000</td>\n",
       "    </tr>\n",
       "    <tr>\n",
       "      <th>mean</th>\n",
       "      <td>6.196689</td>\n",
       "      <td>3.057333</td>\n",
       "      <td>3.764901</td>\n",
       "    </tr>\n",
       "    <tr>\n",
       "      <th>std</th>\n",
       "      <td>4.324325</td>\n",
       "      <td>0.432776</td>\n",
       "      <td>1.760197</td>\n",
       "    </tr>\n",
       "    <tr>\n",
       "      <th>min</th>\n",
       "      <td>4.300000</td>\n",
       "      <td>2.000000</td>\n",
       "      <td>1.000000</td>\n",
       "    </tr>\n",
       "    <tr>\n",
       "      <th>25%</th>\n",
       "      <td>5.100000</td>\n",
       "      <td>2.800000</td>\n",
       "      <td>1.600000</td>\n",
       "    </tr>\n",
       "    <tr>\n",
       "      <th>50%</th>\n",
       "      <td>5.800000</td>\n",
       "      <td>3.000000</td>\n",
       "      <td>4.400000</td>\n",
       "    </tr>\n",
       "    <tr>\n",
       "      <th>75%</th>\n",
       "      <td>6.400000</td>\n",
       "      <td>3.300000</td>\n",
       "      <td>5.100000</td>\n",
       "    </tr>\n",
       "    <tr>\n",
       "      <th>max</th>\n",
       "      <td>58.000000</td>\n",
       "      <td>4.400000</td>\n",
       "      <td>6.900000</td>\n",
       "    </tr>\n",
       "  </tbody>\n",
       "</table>\n",
       "</div>"
      ],
      "text/plain": [
       "       sepal_length  sepal_width  petal_length\n",
       "count    151.000000   150.000000    151.000000\n",
       "mean       6.196689     3.057333      3.764901\n",
       "std        4.324325     0.432776      1.760197\n",
       "min        4.300000     2.000000      1.000000\n",
       "25%        5.100000     2.800000      1.600000\n",
       "50%        5.800000     3.000000      4.400000\n",
       "75%        6.400000     3.300000      5.100000\n",
       "max       58.000000     4.400000      6.900000"
      ]
     },
     "execution_count": 42,
     "metadata": {},
     "output_type": "execute_result"
    }
   ],
   "source": [
    "df.describe()"
   ]
  },
  {
   "cell_type": "code",
   "execution_count": 43,
   "id": "eab72f16",
   "metadata": {},
   "outputs": [
    {
     "data": {
      "text/plain": [
       "sepal_length    151\n",
       "sepal_width     150\n",
       "petal_length    151\n",
       "petal_width     151\n",
       "class           151\n",
       "dtype: int64"
      ]
     },
     "execution_count": 43,
     "metadata": {},
     "output_type": "execute_result"
    }
   ],
   "source": [
    "df.count()"
   ]
  },
  {
   "cell_type": "code",
   "execution_count": 44,
   "id": "2fc3b9af",
   "metadata": {},
   "outputs": [
    {
     "data": {
      "text/plain": [
       "sepal_length  sepal_width  petal_length  petal_width  class          \n",
       "4.9           3.1          1.5           1 mm         Iris-setosa        3\n",
       "7.0           3.2          4.7           14 mm        Iris-versicolor    2\n",
       "6.3           2.9          5.6           18 mm        Iris-virginica     1\n",
       "6.2           3.4          5.4           23 mm        Iris-virginica     1\n",
       "6.3           2.3          4.4           13 mm        Iris-versicolor    1\n",
       "                                                                        ..\n",
       "5.5           2.3          4.0           13 mm        Iris-versicolor    1\n",
       "              2.4          3.7           10 mm        Iris-versicolor    1\n",
       "                           3.8           11 mm        Iris-versicolor    1\n",
       "              2.5          4.0           13 mm        Iris-versicolor    1\n",
       "58.0          2.7          5.1           19 mm        Iris-virginica     1\n",
       "Length: 147, dtype: int64"
      ]
     },
     "execution_count": 44,
     "metadata": {},
     "output_type": "execute_result"
    }
   ],
   "source": [
    "df.value_counts()"
   ]
  },
  {
   "cell_type": "markdown",
   "id": "149e90b1",
   "metadata": {},
   "source": [
    "## Substitute missing values with the column mean. Check/remove duplicates. Correct possible spelling errors."
   ]
  },
  {
   "cell_type": "code",
   "execution_count": 45,
   "id": "eb808c1b",
   "metadata": {},
   "outputs": [],
   "source": [
    "# NaN + column mean\n",
    "df.fillna(value=df.mean(),inplace= True)"
   ]
  },
  {
   "cell_type": "code",
   "execution_count": 46,
   "id": "51df0d8b",
   "metadata": {},
   "outputs": [
    {
     "data": {
      "text/plain": [
       "array([3.5       , 3.        , 3.2       , 3.1       , 3.6       ,\n",
       "       3.9       , 3.4       , 2.9       , 3.7       , 4.        ,\n",
       "       4.4       , 3.8       , 3.3       , 4.1       , 4.2       ,\n",
       "       2.3       , 2.8       , 2.4       , 2.7       , 2.        ,\n",
       "       2.2       , 2.5       , 2.6       , 3.05733333])"
      ]
     },
     "execution_count": 46,
     "metadata": {},
     "output_type": "execute_result"
    }
   ],
   "source": [
    "# Checked if the nan value got replaced successfully. nan value doesn't show anymore\n",
    "df['sepal_width'].unique()"
   ]
  },
  {
   "cell_type": "code",
   "execution_count": 47,
   "id": "10415b41",
   "metadata": {},
   "outputs": [
    {
     "data": {
      "text/plain": [
       "0      False\n",
       "1      False\n",
       "2      False\n",
       "3      False\n",
       "4      False\n",
       "       ...  \n",
       "146    False\n",
       "147    False\n",
       "148    False\n",
       "149    False\n",
       "150    False\n",
       "Length: 151, dtype: bool"
      ]
     },
     "execution_count": 47,
     "metadata": {},
     "output_type": "execute_result"
    }
   ],
   "source": [
    "#check duplicate\n",
    "df.duplicated()"
   ]
  },
  {
   "cell_type": "code",
   "execution_count": 48,
   "id": "951c4bbc",
   "metadata": {},
   "outputs": [],
   "source": [
    "#remove duplicate\n",
    "df=df.drop_duplicates()"
   ]
  },
  {
   "cell_type": "code",
   "execution_count": 49,
   "id": "e6136a0e",
   "metadata": {},
   "outputs": [
    {
     "name": "stdout",
     "output_type": "stream",
     "text": [
      "<class 'pandas.core.frame.DataFrame'>\n",
      "Int64Index: 148 entries, 0 to 150\n",
      "Data columns (total 5 columns):\n",
      " #   Column        Non-Null Count  Dtype  \n",
      "---  ------        --------------  -----  \n",
      " 0   sepal_length  148 non-null    float64\n",
      " 1   sepal_width   148 non-null    float64\n",
      " 2   petal_length  148 non-null    float64\n",
      " 3   petal_width   148 non-null    object \n",
      " 4   class         148 non-null    object \n",
      "dtypes: float64(3), object(2)\n",
      "memory usage: 6.9+ KB\n"
     ]
    }
   ],
   "source": [
    "df.info()"
   ]
  },
  {
   "cell_type": "code",
   "execution_count": 50,
   "id": "9fdfcd8e",
   "metadata": {},
   "outputs": [
    {
     "data": {
      "text/plain": [
       "array(['Iris-setosa', 'Iris-setsoa', 'Iris-versicolor', 'Iris-virginica'],\n",
       "      dtype=object)"
      ]
     },
     "execution_count": 50,
     "metadata": {},
     "output_type": "execute_result"
    }
   ],
   "source": [
    "#correct spelling errors with Regex\n",
    "df['class'].unique() "
   ]
  },
  {
   "cell_type": "code",
   "execution_count": 51,
   "id": "b06c4cf8",
   "metadata": {},
   "outputs": [],
   "source": [
    "df['class'].replace(\"Iris-setsoa\",\"Iris-setosa\",inplace=True)"
   ]
  },
  {
   "cell_type": "code",
   "execution_count": 52,
   "id": "b913d6b7",
   "metadata": {},
   "outputs": [
    {
     "data": {
      "text/plain": [
       "array(['Iris-setosa', 'Iris-versicolor', 'Iris-virginica'], dtype=object)"
      ]
     },
     "execution_count": 52,
     "metadata": {},
     "output_type": "execute_result"
    }
   ],
   "source": [
    "df['class'].unique() "
   ]
  },
  {
   "cell_type": "markdown",
   "id": "d1ef05c8",
   "metadata": {},
   "source": [
    "## Bring all columns to centimeter length. Before, transform any column to numeric if necessary."
   ]
  },
  {
   "cell_type": "code",
   "execution_count": 53,
   "id": "40be358f",
   "metadata": {},
   "outputs": [],
   "source": [
    "# Regex extract 'mm'\n",
    "# Change petal_width dtype to float\n",
    "# transform mm to cm\n",
    "# Program to extract numbers from a string\n",
    "\n",
    "import re\n",
    "\n",
    "df['petal_width']= df['petal_width'].str.extract('(\\d+)')"
   ]
  },
  {
   "cell_type": "code",
   "execution_count": 54,
   "id": "0e1f2273",
   "metadata": {},
   "outputs": [
    {
     "data": {
      "text/html": [
       "<div>\n",
       "<style scoped>\n",
       "    .dataframe tbody tr th:only-of-type {\n",
       "        vertical-align: middle;\n",
       "    }\n",
       "\n",
       "    .dataframe tbody tr th {\n",
       "        vertical-align: top;\n",
       "    }\n",
       "\n",
       "    .dataframe thead th {\n",
       "        text-align: right;\n",
       "    }\n",
       "</style>\n",
       "<table border=\"1\" class=\"dataframe\">\n",
       "  <thead>\n",
       "    <tr style=\"text-align: right;\">\n",
       "      <th></th>\n",
       "      <th>sepal_length</th>\n",
       "      <th>sepal_width</th>\n",
       "      <th>petal_length</th>\n",
       "      <th>petal_width</th>\n",
       "      <th>class</th>\n",
       "    </tr>\n",
       "  </thead>\n",
       "  <tbody>\n",
       "    <tr>\n",
       "      <th>0</th>\n",
       "      <td>5.1</td>\n",
       "      <td>3.5</td>\n",
       "      <td>1.4</td>\n",
       "      <td>2</td>\n",
       "      <td>Iris-setosa</td>\n",
       "    </tr>\n",
       "  </tbody>\n",
       "</table>\n",
       "</div>"
      ],
      "text/plain": [
       "   sepal_length  sepal_width  petal_length petal_width        class\n",
       "0           5.1          3.5           1.4           2  Iris-setosa"
      ]
     },
     "execution_count": 54,
     "metadata": {},
     "output_type": "execute_result"
    }
   ],
   "source": [
    "df.head(1)"
   ]
  },
  {
   "cell_type": "code",
   "execution_count": 55,
   "id": "ab33ea62",
   "metadata": {},
   "outputs": [
    {
     "data": {
      "text/plain": [
       "dtype('float64')"
      ]
     },
     "execution_count": 55,
     "metadata": {},
     "output_type": "execute_result"
    }
   ],
   "source": [
    "df.petal_width=df.petal_width.astype(float)\n",
    "df['petal_width'].dtype"
   ]
  },
  {
   "cell_type": "code",
   "execution_count": 56,
   "id": "8d7c71a7",
   "metadata": {},
   "outputs": [
    {
     "data": {
      "text/plain": [
       "2.0     28\n",
       "13.0    13\n",
       "18.0    12\n",
       "15.0    12\n",
       "14.0     8\n",
       "23.0     8\n",
       "10.0     7\n",
       "4.0      7\n",
       "3.0      7\n",
       "21.0     6\n",
       "20.0     6\n",
       "12.0     5\n",
       "19.0     5\n",
       "1.0      4\n",
       "16.0     4\n",
       "25.0     3\n",
       "22.0     3\n",
       "24.0     3\n",
       "11.0     3\n",
       "17.0     2\n",
       "6.0      1\n",
       "5.0      1\n",
       "Name: petal_width, dtype: int64"
      ]
     },
     "execution_count": 56,
     "metadata": {},
     "output_type": "execute_result"
    }
   ],
   "source": [
    "df['petal_width'].value_counts()"
   ]
  },
  {
   "cell_type": "code",
   "execution_count": 57,
   "id": "b3fe3bce",
   "metadata": {},
   "outputs": [],
   "source": [
    "df['petal_width']=df['petal_width']/10"
   ]
  },
  {
   "cell_type": "code",
   "execution_count": 58,
   "id": "9718326f",
   "metadata": {},
   "outputs": [
    {
     "data": {
      "text/plain": [
       "0.2    28\n",
       "1.3    13\n",
       "1.8    12\n",
       "1.5    12\n",
       "1.4     8\n",
       "2.3     8\n",
       "1.0     7\n",
       "0.4     7\n",
       "0.3     7\n",
       "2.1     6\n",
       "2.0     6\n",
       "1.2     5\n",
       "1.9     5\n",
       "0.1     4\n",
       "1.6     4\n",
       "2.5     3\n",
       "2.2     3\n",
       "2.4     3\n",
       "1.1     3\n",
       "1.7     2\n",
       "0.6     1\n",
       "0.5     1\n",
       "Name: petal_width, dtype: int64"
      ]
     },
     "execution_count": 58,
     "metadata": {},
     "output_type": "execute_result"
    }
   ],
   "source": [
    "df['petal_width'].value_counts()"
   ]
  },
  {
   "cell_type": "code",
   "execution_count": 59,
   "id": "4e98b4ec",
   "metadata": {},
   "outputs": [
    {
     "data": {
      "text/html": [
       "<div>\n",
       "<style scoped>\n",
       "    .dataframe tbody tr th:only-of-type {\n",
       "        vertical-align: middle;\n",
       "    }\n",
       "\n",
       "    .dataframe tbody tr th {\n",
       "        vertical-align: top;\n",
       "    }\n",
       "\n",
       "    .dataframe thead th {\n",
       "        text-align: right;\n",
       "    }\n",
       "</style>\n",
       "<table border=\"1\" class=\"dataframe\">\n",
       "  <thead>\n",
       "    <tr style=\"text-align: right;\">\n",
       "      <th></th>\n",
       "      <th>sepal_length</th>\n",
       "      <th>sepal_width</th>\n",
       "      <th>petal_length</th>\n",
       "      <th>petal_width</th>\n",
       "      <th>class</th>\n",
       "    </tr>\n",
       "  </thead>\n",
       "  <tbody>\n",
       "    <tr>\n",
       "      <th>0</th>\n",
       "      <td>5.1</td>\n",
       "      <td>3.5</td>\n",
       "      <td>1.4</td>\n",
       "      <td>0.2</td>\n",
       "      <td>Iris-setosa</td>\n",
       "    </tr>\n",
       "  </tbody>\n",
       "</table>\n",
       "</div>"
      ],
      "text/plain": [
       "   sepal_length  sepal_width  petal_length  petal_width        class\n",
       "0           5.1          3.5           1.4          0.2  Iris-setosa"
      ]
     },
     "execution_count": 59,
     "metadata": {},
     "output_type": "execute_result"
    }
   ],
   "source": [
    "df.head(1)"
   ]
  },
  {
   "cell_type": "markdown",
   "id": "0ab10d32",
   "metadata": {},
   "source": [
    "## Check for outliers with .describe() or means of plotting. Think about the appropriate way to correct for possible outliers and perform that correction."
   ]
  },
  {
   "cell_type": "code",
   "execution_count": 60,
   "id": "69b61606",
   "metadata": {},
   "outputs": [
    {
     "data": {
      "text/html": [
       "<div>\n",
       "<style scoped>\n",
       "    .dataframe tbody tr th:only-of-type {\n",
       "        vertical-align: middle;\n",
       "    }\n",
       "\n",
       "    .dataframe tbody tr th {\n",
       "        vertical-align: top;\n",
       "    }\n",
       "\n",
       "    .dataframe thead th {\n",
       "        text-align: right;\n",
       "    }\n",
       "</style>\n",
       "<table border=\"1\" class=\"dataframe\">\n",
       "  <thead>\n",
       "    <tr style=\"text-align: right;\">\n",
       "      <th></th>\n",
       "      <th>sepal_length</th>\n",
       "      <th>sepal_width</th>\n",
       "      <th>petal_length</th>\n",
       "      <th>petal_width</th>\n",
       "    </tr>\n",
       "  </thead>\n",
       "  <tbody>\n",
       "    <tr>\n",
       "      <th>count</th>\n",
       "      <td>148.000000</td>\n",
       "      <td>148.000000</td>\n",
       "      <td>148.000000</td>\n",
       "      <td>148.000000</td>\n",
       "    </tr>\n",
       "    <tr>\n",
       "      <th>mean</th>\n",
       "      <td>6.208784</td>\n",
       "      <td>3.055793</td>\n",
       "      <td>3.789189</td>\n",
       "      <td>1.213514</td>\n",
       "    </tr>\n",
       "    <tr>\n",
       "      <th>std</th>\n",
       "      <td>4.365089</td>\n",
       "      <td>0.435520</td>\n",
       "      <td>1.756470</td>\n",
       "      <td>0.757426</td>\n",
       "    </tr>\n",
       "    <tr>\n",
       "      <th>min</th>\n",
       "      <td>4.300000</td>\n",
       "      <td>2.000000</td>\n",
       "      <td>1.000000</td>\n",
       "      <td>0.100000</td>\n",
       "    </tr>\n",
       "    <tr>\n",
       "      <th>25%</th>\n",
       "      <td>5.100000</td>\n",
       "      <td>2.800000</td>\n",
       "      <td>1.600000</td>\n",
       "      <td>0.300000</td>\n",
       "    </tr>\n",
       "    <tr>\n",
       "      <th>50%</th>\n",
       "      <td>5.800000</td>\n",
       "      <td>3.000000</td>\n",
       "      <td>4.400000</td>\n",
       "      <td>1.300000</td>\n",
       "    </tr>\n",
       "    <tr>\n",
       "      <th>75%</th>\n",
       "      <td>6.400000</td>\n",
       "      <td>3.300000</td>\n",
       "      <td>5.100000</td>\n",
       "      <td>1.800000</td>\n",
       "    </tr>\n",
       "    <tr>\n",
       "      <th>max</th>\n",
       "      <td>58.000000</td>\n",
       "      <td>4.400000</td>\n",
       "      <td>6.900000</td>\n",
       "      <td>2.500000</td>\n",
       "    </tr>\n",
       "  </tbody>\n",
       "</table>\n",
       "</div>"
      ],
      "text/plain": [
       "       sepal_length  sepal_width  petal_length  petal_width\n",
       "count    148.000000   148.000000    148.000000   148.000000\n",
       "mean       6.208784     3.055793      3.789189     1.213514\n",
       "std        4.365089     0.435520      1.756470     0.757426\n",
       "min        4.300000     2.000000      1.000000     0.100000\n",
       "25%        5.100000     2.800000      1.600000     0.300000\n",
       "50%        5.800000     3.000000      4.400000     1.300000\n",
       "75%        6.400000     3.300000      5.100000     1.800000\n",
       "max       58.000000     4.400000      6.900000     2.500000"
      ]
     },
     "execution_count": 60,
     "metadata": {},
     "output_type": "execute_result"
    }
   ],
   "source": [
    "df.describe()"
   ]
  },
  {
   "cell_type": "code",
   "execution_count": 61,
   "id": "80ee4fca",
   "metadata": {},
   "outputs": [
    {
     "data": {
      "image/png": "[encoded data removed]",
      "text/plain": [
       "<Figure size 432x288 with 1 Axes>"
      ]
     },
     "metadata": {
      "needs_background": "light"
     },
     "output_type": "display_data"
    }
   ],
   "source": [
    "# There is an outlier in 'sepal_lenght' as the mean value and the max value have a relatively big gap, \n",
    "# let's check the outlier's value through the box_plot\n",
    "box_plot = sns.boxplot(x=\"sepal_length\", y=None, data=df)"
   ]
  },
  {
   "cell_type": "code",
   "execution_count": 62,
   "id": "0b5309b9",
   "metadata": {},
   "outputs": [
    {
     "data": {
      "text/plain": [
       "5.0     10\n",
       "5.1      9\n",
       "6.3      9\n",
       "6.7      8\n",
       "5.7      8\n",
       "5.5      7\n",
       "6.4      7\n",
       "5.6      6\n",
       "5.4      6\n",
       "6.1      6\n",
       "6.0      6\n",
       "5.8      6\n",
       "6.5      5\n",
       "4.8      5\n",
       "4.6      4\n",
       "5.2      4\n",
       "6.9      4\n",
       "4.9      4\n",
       "7.7      4\n",
       "6.2      4\n",
       "5.9      3\n",
       "4.4      3\n",
       "6.8      3\n",
       "7.2      3\n",
       "6.6      2\n",
       "4.7      2\n",
       "7.3      1\n",
       "7.9      1\n",
       "7.4      1\n",
       "4.5      1\n",
       "7.6      1\n",
       "7.1      1\n",
       "5.3      1\n",
       "4.3      1\n",
       "7.0      1\n",
       "58.0     1\n",
       "Name: sepal_length, dtype: int64"
      ]
     },
     "execution_count": 62,
     "metadata": {},
     "output_type": "execute_result"
    }
   ],
   "source": [
    "# as there is only 1 value = 58.0, i assume that could be a type error that was supposed to be 5.8 (balanced with the other values)\n",
    "# I won't drop the value out but instead will replace it with 5.8\n",
    "df['sepal_length'].value_counts()"
   ]
  },
  {
   "cell_type": "code",
   "execution_count": 64,
   "id": "314536db",
   "metadata": {},
   "outputs": [],
   "source": [
    "def type_error(x):\n",
    "    if x==58:\n",
    "        return 58/10\n",
    "    else:\n",
    "        return x"
   ]
  },
  {
   "cell_type": "code",
   "execution_count": 65,
   "id": "7be998b6",
   "metadata": {},
   "outputs": [],
   "source": [
    "df['sepal_length']=df['sepal_length'].apply(type_error)"
   ]
  },
  {
   "cell_type": "code",
   "execution_count": 66,
   "id": "82e8a3ca",
   "metadata": {},
   "outputs": [
    {
     "data": {
      "text/plain": [
       "5.0    10\n",
       "5.1     9\n",
       "6.3     9\n",
       "5.7     8\n",
       "6.7     8\n",
       "5.8     7\n",
       "5.5     7\n",
       "6.4     7\n",
       "5.4     6\n",
       "6.1     6\n",
       "6.0     6\n",
       "5.6     6\n",
       "4.8     5\n",
       "6.5     5\n",
       "4.9     4\n",
       "6.2     4\n",
       "7.7     4\n",
       "6.9     4\n",
       "4.6     4\n",
       "5.2     4\n",
       "5.9     3\n",
       "4.4     3\n",
       "7.2     3\n",
       "6.8     3\n",
       "6.6     2\n",
       "4.7     2\n",
       "7.6     1\n",
       "7.4     1\n",
       "7.3     1\n",
       "7.0     1\n",
       "7.1     1\n",
       "5.3     1\n",
       "4.3     1\n",
       "4.5     1\n",
       "7.9     1\n",
       "Name: sepal_length, dtype: int64"
      ]
     },
     "execution_count": 66,
     "metadata": {},
     "output_type": "execute_result"
    }
   ],
   "source": [
    "df['sepal_length'].value_counts()"
   ]
  },
  {
   "cell_type": "markdown",
   "id": "502f0862",
   "metadata": {},
   "source": [
    "## Plot a correlation matrix with a heatmap between the numeric features."
   ]
  },
  {
   "cell_type": "code",
   "execution_count": 67,
   "id": "3f968731",
   "metadata": {},
   "outputs": [],
   "source": [
    "numerical=df._get_numeric_data()\n",
    "corre_matrix=numerical.corr() "
   ]
  },
  {
   "cell_type": "code",
   "execution_count": 68,
   "id": "20b9d2bc",
   "metadata": {},
   "outputs": [
    {
     "data": {
      "image/png": "[encoded data removed]",
      "text/plain": [
       "<Figure size 720x576 with 2 Axes>"
      ]
     },
     "metadata": {
      "needs_background": "light"
     },
     "output_type": "display_data"
    }
   ],
   "source": [
    "mask=np.zeros_like(corre_matrix)\n",
    "mask[np.triu_indices_from(mask)]=True\n",
    "fig,ax = plt.subplots(figsize=(10,8))\n",
    "ax=sns.heatmap(corre_matrix, mask=mask, center=0, cmap=sns.diverging_palette(220, 20, as_cmap=True), annot=True);"
   ]
  },
  {
   "cell_type": "markdown",
   "id": "4a159195",
   "metadata": {},
   "source": [
    "## Model the relationship between our features (the four numeric flower metrics) and the label (class) with Logistic Regression using LogisticRegression() from the sklearn.linear_model module. For the purpose of model validation, use the known train-test-split method with a size parameter of 0.3. Calculate the predicted labels, the accuracy score of y_test and y_predicted and plot a confusion matrix of the two."
   ]
  },
  {
   "cell_type": "code",
   "execution_count": 69,
   "id": "c4923ef6",
   "metadata": {},
   "outputs": [],
   "source": [
    "y=df['class']\n",
    "X=df.drop('class',axis=1)\n",
    "X_num=X.select_dtypes(include=np.number)#or include=number"
   ]
  },
  {
   "cell_type": "code",
   "execution_count": 70,
   "id": "094867af",
   "metadata": {},
   "outputs": [],
   "source": [
    "from sklearn.linear_model import LogisticRegression\n",
    "X_train, X_test, y_train, y_test = train_test_split(X_num, y,test_size = 0.3, random_state = 40)"
   ]
  },
  {
   "cell_type": "code",
   "execution_count": 71,
   "id": "016ee64a",
   "metadata": {},
   "outputs": [],
   "source": [
    "classification = LogisticRegression(max_iter=500)"
   ]
  },
  {
   "cell_type": "code",
   "execution_count": 72,
   "id": "ebb66ad6",
   "metadata": {},
   "outputs": [
    {
     "data": {
      "text/plain": [
       "LogisticRegression(max_iter=500)"
      ]
     },
     "execution_count": 72,
     "metadata": {},
     "output_type": "execute_result"
    }
   ],
   "source": [
    "classification.fit(X_train,y_train)"
   ]
  },
  {
   "cell_type": "code",
   "execution_count": 73,
   "id": "36c44c5a",
   "metadata": {},
   "outputs": [],
   "source": [
    "y_test_pred=classification.predict(X_test)"
   ]
  },
  {
   "cell_type": "code",
   "execution_count": 74,
   "id": "2c0e59ec",
   "metadata": {},
   "outputs": [
    {
     "data": {
      "text/plain": [
       "0.9333333333333333"
      ]
     },
     "execution_count": 74,
     "metadata": {},
     "output_type": "execute_result"
    }
   ],
   "source": [
    "accuracy_score(y_test,y_test_pred)"
   ]
  },
  {
   "cell_type": "code",
   "execution_count": 75,
   "id": "63d52242",
   "metadata": {},
   "outputs": [],
   "source": [
    "from sklearn.metrics import confusion_matrix, ConfusionMatrixDisplay"
   ]
  },
  {
   "cell_type": "code",
   "execution_count": 76,
   "id": "7e7c64f0",
   "metadata": {},
   "outputs": [
    {
     "data": {
      "text/plain": [
       "array([[14,  0,  0],\n",
       "       [ 0, 15,  2],\n",
       "       [ 0,  1, 13]], dtype=int64)"
      ]
     },
     "execution_count": 76,
     "metadata": {},
     "output_type": "execute_result"
    }
   ],
   "source": [
    "confusion_matrix(y_test,y_test_pred)"
   ]
  },
  {
   "cell_type": "code",
   "execution_count": 77,
   "id": "1756c11a",
   "metadata": {},
   "outputs": [
    {
     "data": {
      "image/png": "[encoded data removed]",
      "text/plain": [
       "<Figure size 432x288 with 2 Axes>"
      ]
     },
     "metadata": {
      "needs_background": "light"
     },
     "output_type": "display_data"
    }
   ],
   "source": [
    "cmx=confusion_matrix(y_test,y_test_pred)\n",
    "disp=ConfusionMatrixDisplay(confusion_matrix=cmx)\n",
    "disp.plot();"
   ]
  },
  {
   "cell_type": "code",
   "execution_count": 78,
   "id": "4ea580d3",
   "metadata": {},
   "outputs": [
    {
     "data": {
      "image/png": "[encoded data removed]",
      "text/plain": [
       "<Figure size 432x288 with 2 Axes>"
      ]
     },
     "metadata": {
      "needs_background": "light"
     },
     "output_type": "display_data"
    }
   ],
   "source": [
    "cmx=confusion_matrix(y_test,y_test_pred)\n",
    "sns.heatmap(cmx/np.sum(cmx), annot=True, fmt='.2%', cmap='Blues');"
   ]
  },
  {
   "cell_type": "markdown",
   "id": "5c7e5e69",
   "metadata": {},
   "source": [
    "## Thank you Kofi and Sian for the patience:)"
   ]
  },
  {
   "cell_type": "code",
   "execution_count": null,
   "id": "0e0e4b40",
   "metadata": {},
   "outputs": [],
   "source": []
  }
 ],
 "metadata": {
  "kernelspec": {
   "display_name": "Python 3 (ipykernel)",
   "language": "python",
   "name": "python3"
  },
  "language_info": {
   "codemirror_mode": {
    "name": "ipython",
    "version": 3
   },
   "file_extension": ".py",
   "mimetype": "text/x-python",
   "name": "python",
   "nbconvert_exporter": "python",
   "pygments_lexer": "ipython3",
   "version": "3.9.7"
  },
  "toc": {
   "base_numbering": 1,
   "nav_menu": {},
   "number_sections": true,
   "sideBar": true,
   "skip_h1_title": false,
   "title_cell": "Table of Contents",
   "title_sidebar": "Contents",
   "toc_cell": false,
   "toc_position": {},
   "toc_section_display": true,
   "toc_window_display": false
  },
  "varInspector": {
   "cols": {
    "lenName": 16,
    "lenType": 16,
    "lenVar": 40
   },
   "kernels_config": {
    "python": {
     "delete_cmd_postfix": "",
     "delete_cmd_prefix": "del ",
     "library": "var_list.py",
     "varRefreshCmd": "print(var_dic_list())"
    },
    "r": {
     "delete_cmd_postfix": ") ",
     "delete_cmd_prefix": "rm(",
     "library": "var_list.r",
     "varRefreshCmd": "cat(var_dic_list()) "
    }
   },
   "types_to_exclude": [
    "module",
    "function",
    "builtin_function_or_method",
    "instance",
    "_Feature"
   ],
   "window_display": false
  }
 },
 "nbformat": 4,
 "nbformat_minor": 5
}
